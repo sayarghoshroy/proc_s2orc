{
  "nbformat": 4,
  "nbformat_minor": 0,
  "metadata": {
    "colab": {
      "provenance": [],
      "mount_file_id": "1iziPojH0RgsipT3p14jcN_ikYt28C1wJ",
      "authorship_tag": "ABX9TyOywh1YIYbSzZ4UspWbdfNx",
      "include_colab_link": true
    },
    "kernelspec": {
      "name": "python3",
      "display_name": "Python 3"
    },
    "language_info": {
      "name": "python"
    }
  },
  "cells": [
    {
      "cell_type": "markdown",
      "metadata": {
        "id": "view-in-github",
        "colab_type": "text"
      },
      "source": [
        "<a href=\"https://colab.research.google.com/github/sayarghoshroy/proc_s2orc/blob/main/get_meta.ipynb\" target=\"_parent\"><img src=\"https://colab.research.google.com/assets/colab-badge.svg\" alt=\"Open In Colab\"/></a>"
      ]
    },
    {
      "cell_type": "code",
      "execution_count": 1,
      "metadata": {
        "id": "v0OFWLz0pt7k"
      },
      "outputs": [],
      "source": [
        "path = 'drive/MyDrive/s2orc/'\n",
        "\n",
        "read_meta_file = 'metadata_0.jsonl'\n",
        "out_file = 'new_out/output_meta_0.jsonl'\n",
        "IDs_file = 'processed/ID_list.jsonl'\n",
        "\n",
        "MAX_PROC = int(1e4)"
      ]
    },
    {
      "cell_type": "code",
      "source": [
        "import ast\n",
        "import json\n",
        "import tqdm"
      ],
      "metadata": {
        "id": "dZ0iZaMAsx46"
      },
      "execution_count": 2,
      "outputs": []
    },
    {
      "cell_type": "code",
      "source": [
        "with open(path + IDs_file, 'r+') as f:\n",
        "  IDs = set(json.load(f))"
      ],
      "metadata": {
        "id": "GvoYSoWLs5ER"
      },
      "execution_count": 3,
      "outputs": []
    },
    {
      "cell_type": "code",
      "source": [
        "with open(path + read_meta_file, 'r+') as f:\n",
        "  for counter in tqdm.tqdm(range(MAX_PROC)):\n",
        "    line = f.readline()\n",
        "    if not line:\n",
        "        break\n",
        "    meta_dict = json.loads(line)\n",
        "    paper_ID = meta_dict['paper_id']\n",
        "    \n",
        "    if paper_ID in IDs:\n",
        "      # Valid ID\n",
        "      with open(path + out_file, 'a+') as o:\n",
        "        o.write(str(json.dumps(ast.literal_eval(str(meta_dict)))))\n",
        "        o.write('\\n')\n",
        "\n",
        "print()\n",
        "print('Number of items:', counter)"
      ],
      "metadata": {
        "colab": {
          "base_uri": "https://localhost:8080/"
        },
        "id": "feCnrbP5tM6q",
        "outputId": "b60ead79-ba8a-4358-8ecf-d557413390de"
      },
      "execution_count": 4,
      "outputs": [
        {
          "output_type": "stream",
          "name": "stderr",
          "text": [
            "100%|██████████| 10000/10000 [00:02<00:00, 4493.64it/s]"
          ]
        },
        {
          "output_type": "stream",
          "name": "stdout",
          "text": [
            "\n",
            "Number of items: 9999\n"
          ]
        },
        {
          "output_type": "stream",
          "name": "stderr",
          "text": [
            "\n"
          ]
        }
      ]
    },
    {
      "cell_type": "code",
      "source": [
        "# Done"
      ],
      "metadata": {
        "id": "jUu9D_hWvhWa"
      },
      "execution_count": 5,
      "outputs": []
    }
  ]
}