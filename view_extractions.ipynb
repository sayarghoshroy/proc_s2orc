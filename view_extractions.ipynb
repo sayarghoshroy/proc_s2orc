{
  "nbformat": 4,
  "nbformat_minor": 0,
  "metadata": {
    "colab": {
      "provenance": [],
      "mount_file_id": "1paJOXRwtc2RnKQONtlfQ-KebklCOA9Z0",
      "authorship_tag": "ABX9TyPnt30H5REM8t3zbFDcNUpK",
      "include_colab_link": true
    },
    "kernelspec": {
      "name": "python3",
      "display_name": "Python 3"
    },
    "language_info": {
      "name": "python"
    }
  },
  "cells": [
    {
      "cell_type": "markdown",
      "metadata": {
        "id": "view-in-github",
        "colab_type": "text"
      },
      "source": [
        "<a href=\"https://colab.research.google.com/github/sayarghoshroy/proc_s2orc/blob/main/view_extractions.ipynb\" target=\"_parent\"><img src=\"https://colab.research.google.com/assets/colab-badge.svg\" alt=\"Open In Colab\"/></a>"
      ]
    },
    {
      "cell_type": "code",
      "execution_count": 1,
      "metadata": {
        "id": "EH4TImyFuY_A"
      },
      "outputs": [],
      "source": [
        "import ast\n",
        "import json\n",
        "import tqdm\n",
        "\n",
        "path = 'drive/My Drive/s2orc/'\n",
        "\n",
        "rel_work_file = 'out/output_0.jsonl'\n",
        "MAX_VIEW = int(5)"
      ]
    },
    {
      "cell_type": "code",
      "source": [
        "all_units = []\n",
        "\n",
        "with open(path + rel_work_file, 'r+') as f:\n",
        "  for counter in (range(MAX_VIEW)):\n",
        "    line = f.readline();\n",
        "    if not line:\n",
        "        break\n",
        "    paper_dict = ast.literal_eval(line)\n",
        "\n",
        "    print('Paper ID:', paper_dict['paper_id'])\n",
        "    print(paper_dict['related_work']['text'])\n",
        "    print()\n",
        "    \n",
        "    all_units.append(paper_dict)"
      ],
      "metadata": {
        "colab": {
          "base_uri": "https://localhost:8080/"
        },
        "id": "YxbiEsiEurbi",
        "outputId": "7bd404d2-2ae8-4b3f-ab11-4647f4850810"
      },
      "execution_count": 2,
      "outputs": [
        {
          "output_type": "stream",
          "name": "stdout",
          "text": [
            "Paper ID: 199668887\n",
            "In the present work, we propose a method for disseminating recommendations epidemically in combination with an on-device fltering process for which we proposed a mobile software architecture in [5] . The most similar work is that of Barbosa et al. [25] that propose device-to-device raw profle exchanges in an opportunistic networking scenario. Yet, it difers in that they neither address scalability nor privacy issues. Other related work subsumes: Information Dissemination: Technical works on device-to-device information exchange in proximity are key enablers for collaboratively built recommender systems on mobile devices. The Haggle API [24] implements data-centric message forwarding using Bluetooth, Ethernet, and WiFi 1 . In [26] , the authors implement a Bluetooth-based middleware to create opportunistic networks between passing users. On top of such enablers, the authors in [7] leverage real-world social phenomena such as large crowds at sports events for event-based mobile communication.\n",
            "\n",
            "Paper ID: 199668943\n",
            "In this section, we first review prior approaches for learning human-pose embedding followed by a discussion of previous weakly supervised methods for monocular 3D human pose estimation to bring out the differences between our approach and the previous art. Later, we discuss the usage of deep metric learning in capturing image similarity.\n",
            "\n",
            "Paper ID: 8333443\n",
            "In Singhal's taxonomy [21], the mutual exclusion protocol we present is a \"Maekawa-type\" protocol, following [12] . In this class of protocols, a process pi requests permission to enter the critical section from a set Qi of processes, such that Qi f l Qj # 8 for all i, j . Each process in a request set Qi grants exclusive access to the critical section until it is exited, and pi is allowed to enter the critical section only if all processes in Qi grant pi access. Due to the intersection property of request sets and exclusive locking at each process in a request set, only one process can be in the critical section at any time. Also due to these properties, however, Maekawa-type algorithms are generally prone to deadlock and consequently require extra messages to 'detect and recover from deadlocks. Deadlock-free Maekawa-type protocols, such as [ 10,201, have been proposed by strengthening the constraints on request sets so that for all i , j , eitherpi E Qj o r p j E Qi [21]. However, in our context, this strengthening is not possible because the clients requesting mutual exclusion are distinct from the servers that comprise the request sets. Clients cannot be added to reque., qt sets because they are transient and because the population of clients that might contend is not known a priori. The protocol that we present here works with Maekawa's original (weaker) intersection property Qi n Q j # 8 in the fault model addressed in [12]. At the same time, our protocol is not prone to deadlock.\n",
            "\n",
            "Paper ID: 8339153\n",
            "Extracting knowledge bases from texts is one of the major goal of NLP and KR. These methods can give an important boost to knowledge-based systems. In this section we want to shortly analyze some of these methods in order to motivate our choice to work within an existing probabilistic model for learning taxonomies. We also review the more traditional models for super-vised and unsupervised feature selection.\n",
            "\n",
            "Paper ID: 10701804\n",
            "Durand [5] proved that if w is an α-substitutive sequence and h is a non-erasing morphism, then h(w) is α k -substitutive for some k ∈ N. We strengthen this result in two directions. First, we show that k may be taken to be 1; hence h(w) is α k -substitutive for every k ∈ N. Second, we show that Durand's result also holds for non-erasing transductions.\n",
            "\n"
          ]
        }
      ]
    },
    {
      "cell_type": "code",
      "source": [
        "print('Number of Paper Nodes viewed:', len(all_units))"
      ],
      "metadata": {
        "colab": {
          "base_uri": "https://localhost:8080/"
        },
        "id": "45gNbZ6c1uDE",
        "outputId": "b04fe0ad-7a55-4fa4-c63e-266dfcada0c0"
      },
      "execution_count": 3,
      "outputs": [
        {
          "output_type": "stream",
          "name": "stdout",
          "text": [
            "Number of Paper Nodes: 5\n"
          ]
        }
      ]
    },
    {
      "cell_type": "code",
      "source": [
        "# Eyeballing to find patterns\n",
        "\n",
        "# output_0\n",
        "\n",
        "# 214802415: For this work, two areas of research are important: Emotion detection algorithms and applications of affective user interfaces form the technological basis for our research. In addition, we rely on the work of social scientists, who have set a foundation for understanding cultural backgrounds and how they evolve along with digitization and we focus on the automotive domain as exemplary application area.\n",
        "# 5059562: In this section, we discuss related work on focused crawling as well as on text and web classification.\n",
        "# 42750215: In this section, we present the related work which is subdivided into two sub-sections. We first present the evolution of vehicle communication architectures from the conventional VANET framework to vehicular cloud computing extensions along with related security mechanisms. Then, we present the existing work on billing schemes within the CC environment and VCC.\n",
        "# 173187842: Semisupervised learning.\n",
        "# 12029706: To the best of our knowledge, this is the first time that this task has been attempted. However, there are related works for each component in our model,namely,named entity recognition, coreference resolution, and TagMe entity linking model.\n",
        "# 51927404: In this section, we briefly review prior work on autoexposure and post-processing techniques for tonal enhancement.\n",
        "# 104292122: Transfer Learning:\n",
        "# 13337091: In this section we discuss works about the introduction of type information in logic programming.\n",
        "# 2704185: In this section, we first review the related work in the area of graph theory.\n",
        "\n",
        "# output_1\n",
        "\n",
        "# 11508696\n",
        "# 36004644: Parameter Tuning. \n",
        "# 84831801: RPCs.\n",
        "# 14949826: In this section we review previous work in the areas spatial databases, spatial-textual queries, and top-k query processing.\n",
        "# 8223607: We discuss the related work under the query generation and similarity detection groups."
      ],
      "metadata": {
        "id": "C2wMQ0vOAu69"
      },
      "execution_count": 4,
      "outputs": []
    },
    {
      "cell_type": "code",
      "source": [
        "# Done"
      ],
      "metadata": {
        "id": "w6rAfx27vIlQ"
      },
      "execution_count": 5,
      "outputs": []
    }
  ]
}