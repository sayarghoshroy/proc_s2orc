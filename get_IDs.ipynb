{
  "nbformat": 4,
  "nbformat_minor": 0,
  "metadata": {
    "colab": {
      "provenance": [],
      "mount_file_id": "1MedOlDUUuSSRVDKfaUpgXPQ4Gcwcg_vt",
      "authorship_tag": "ABX9TyNAdJsbF0DVSfmsgMFJ7JSZ",
      "include_colab_link": true
    },
    "kernelspec": {
      "name": "python3",
      "display_name": "Python 3"
    },
    "language_info": {
      "name": "python"
    }
  },
  "cells": [
    {
      "cell_type": "markdown",
      "metadata": {
        "id": "view-in-github",
        "colab_type": "text"
      },
      "source": [
        "<a href=\"https://colab.research.google.com/github/sayarghoshroy/proc_s2orc/blob/main/get_IDs.ipynb\" target=\"_parent\"><img src=\"https://colab.research.google.com/assets/colab-badge.svg\" alt=\"Open In Colab\"/></a>"
      ]
    },
    {
      "cell_type": "code",
      "execution_count": 1,
      "metadata": {
        "id": "7p8Gr-6BTCYV"
      },
      "outputs": [],
      "source": [
        "import json"
      ]
    },
    {
      "cell_type": "code",
      "source": [
        "path = 'drive/MyDrive/s2orc/processed/'\n",
        "\n",
        "read_file = 'sorted_old.jsonl'\n",
        "out_file = 'ID_list.jsonl'"
      ],
      "metadata": {
        "id": "uClTc0yITDsp"
      },
      "execution_count": 2,
      "outputs": []
    },
    {
      "cell_type": "code",
      "source": [
        "counter = 0\n",
        "IDs = []\n",
        "\n",
        "with open(path + read_file, 'r+') as f:\n",
        "  while(True):\n",
        "    line = f.readline()\n",
        "    if not line:\n",
        "        break\n",
        "    paper_dict = json.loads(line)\n",
        "    IDs.append(paper_dict['paper_id'])\n",
        "    counter += 1\n",
        "\n",
        "print('Number of Datapoints: ' + str(counter))"
      ],
      "metadata": {
        "colab": {
          "base_uri": "https://localhost:8080/"
        },
        "id": "jVvfL9idTFTZ",
        "outputId": "00adffc8-6584-4a81-b77c-62d997c0c3bd"
      },
      "execution_count": 3,
      "outputs": [
        {
          "output_type": "stream",
          "name": "stdout",
          "text": [
            "Number of Datapoints: 180349\n"
          ]
        }
      ]
    },
    {
      "cell_type": "code",
      "source": [
        "with open(path + out_file, 'w+') as f:\n",
        "  json.dump(IDs, f)"
      ],
      "metadata": {
        "id": "YePESICiTG47"
      },
      "execution_count": 4,
      "outputs": []
    },
    {
      "cell_type": "code",
      "source": [
        "# Done"
      ],
      "metadata": {
        "id": "Z4MeEC3LTIsZ"
      },
      "execution_count": 5,
      "outputs": []
    }
  ]
}