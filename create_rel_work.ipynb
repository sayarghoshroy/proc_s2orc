{
  "cells": [
    {
      "cell_type": "markdown",
      "metadata": {
        "id": "view-in-github",
        "colab_type": "text"
      },
      "source": [
        "<a href=\"https://colab.research.google.com/github/sayarghoshroy/proc_s2orc/blob/main/create_rel_work.ipynb\" target=\"_parent\"><img src=\"https://colab.research.google.com/assets/colab-badge.svg\" alt=\"Open In Colab\"/></a>"
      ]
    },
    {
      "cell_type": "code",
      "execution_count": null,
      "metadata": {
        "id": "FU6Fi9pKoRk4"
      },
      "outputs": [],
      "source": [
        "%%capture\n",
        "import nltk\n",
        "from nltk.corpus import stopwords\n",
        "import numpy as np\n",
        "\n",
        "nltk.download('punkt')\n",
        "nltk.download('stopwords')"
      ]
    },
    {
      "cell_type": "code",
      "source": [
        "path = 'drive/My Drive/s2orc/'\n",
        "\n",
        "read_file = 'pdf_parses_0.jsonl'\n",
        "rel_work_file = 'out/output_relw_1_0.jsonl'\n",
        "\n",
        "MAX_PROC = int(1e6)"
      ],
      "metadata": {
        "id": "V6YIiAIgXND8"
      },
      "execution_count": null,
      "outputs": []
    },
    {
      "cell_type": "code",
      "execution_count": null,
      "metadata": {
        "colab": {
          "base_uri": "https://localhost:8080/"
        },
        "id": "R9itc5wOsSY7",
        "outputId": "8d0119e6-fb07-486a-a55b-0e515cdbe84a"
      },
      "outputs": [
        {
          "output_type": "stream",
          "name": "stderr",
          "text": [
            " 31%|███       | 310736/1000000 [02:24<05:20, 2151.79it/s]"
          ]
        },
        {
          "output_type": "stream",
          "name": "stdout",
          "text": [
            "\n",
            "\n",
            "Number of entries processed: 310736\n",
            "Number of entries with the Related Works sections: 1895\n",
            "Average number of Related Work subsections: 11.130343007915567\n"
          ]
        },
        {
          "output_type": "stream",
          "name": "stderr",
          "text": [
            "\n"
          ]
        }
      ],
      "source": [
        "# Read a jsonl and create a jsonl\n",
        "import re\n",
        "import ast\n",
        "import json\n",
        "import tqdm\n",
        "\n",
        "stops = set(stopwords.words('english'))\n",
        "\n",
        "def normalize(name):\n",
        "  name = name.lower().strip()\n",
        "  re.sub('\\s+', ' ', name)\n",
        "  return name\n",
        "\n",
        "def check_rel_work(body_text):\n",
        "  for blob in body_text:\n",
        "    if normalize(blob['section']) == 'related work':\n",
        "      return True, blob\n",
        "  return False, None\n",
        "\n",
        "def get_following_sections(body_text):\n",
        "  flag = 0\n",
        "  following_sections = []\n",
        "\n",
        "  for blob in body_text:\n",
        "    if flag == 0 and normalize(blob['section']) == 'related work':\n",
        "      flag = 1\n",
        "      continue\n",
        "    if flag == 1:\n",
        "      following_sections.append(blob['section'])\n",
        "\n",
        "  return following_sections\n",
        "\n",
        "def score_sections(section_id, count_sections, common_tokens, count_tokens):\n",
        "  score = (count_sections - section_id) / count_sections + (common_tokens / count_tokens)\n",
        "  return score\n",
        "\n",
        "def get_rel_work(candidate_sections, blob):\n",
        "  # if a subsequent section name has tokens contained in the related work section\n",
        "\n",
        "  rel_works = []\n",
        "  topics_set = set()\n",
        "  tokens_blob = set(nltk.word_tokenize(blob['text'].lower()))\n",
        "  num_sections = len(candidate_sections)\n",
        "\n",
        "  for index, candidate in enumerate(candidate_sections):\n",
        "    if candidate.lower().strip() == 'related work':\n",
        "      continue\n",
        "    \n",
        "    if candidate.lower().strip() in topics_set:\n",
        "      continue\n",
        "\n",
        "    topics_set.add(candidate.lower().strip())\n",
        "    candidate_tokens = nltk.word_tokenize(candidate.lower())\n",
        "    common = tokens_blob.intersection(candidate_tokens)\n",
        "    common = common.difference(stops)\n",
        "\n",
        "    score = score_sections(index + 1, num_sections, len(common), len(candidate_tokens))\n",
        "\n",
        "    rel_works.append([candidate.lower().strip(),\n",
        "                      score,\n",
        "                      index + 1,\n",
        "                      len(common)])\n",
        "    # Format: text, score, index, overlap\n",
        "\n",
        "  sorted_works = sorted(rel_works, key = lambda works: works[1], reverse = True)\n",
        "  return sorted_works\n",
        "\n",
        "valid_lines = 0\n",
        "possible_rel_works_count = []\n",
        "\n",
        "with open(path + read_file, 'r+') as f:\n",
        "  for counter in tqdm.tqdm(range(MAX_PROC)):\n",
        "    line = f.readline();\n",
        "    if not line:\n",
        "        break\n",
        "    paper_dict = json.loads(line)\n",
        "    if paper_dict['body_text'] == []:\n",
        "      continue\n",
        "\n",
        "    check, blob = check_rel_work(paper_dict['body_text'])\n",
        "    if check:\n",
        "      valid_lines += 1\n",
        "      unit = {}\n",
        "      unit['paper_id'] = paper_dict['paper_id']\n",
        "      unit['related_work'] = blob['text']\n",
        "      \n",
        "      candidate_sections = get_following_sections(paper_dict['body_text'])\n",
        "      possible_rel_works = get_rel_work(candidate_sections, blob)\n",
        "\n",
        "      unit['possible_rel_works'] = possible_rel_works\n",
        "      possible_rel_works_count.append(len(possible_rel_works))\n",
        "\n",
        "      with open(path + rel_work_file, 'a+') as o:\n",
        "        o.write(str(json.dumps(ast.literal_eval(str(unit)))))\n",
        "        o.write('\\n')\n",
        "\n",
        "print('\\n\\n' + 'Number of entries processed: ' + str(counter))\n",
        "print('Number of entries with the Related Works sections: ' + str(valid_lines))\n",
        "print('Average number of Related Work subsections: ' + str(np.mean(possible_rel_works_count)))"
      ]
    },
    {
      "cell_type": "code",
      "execution_count": null,
      "metadata": {
        "id": "2jAou8EmtM-6"
      },
      "outputs": [],
      "source": [
        "# That's it"
      ]
    }
  ],
  "metadata": {
    "colab": {
      "provenance": [],
      "mount_file_id": "1_KAKw-L-ovenxdXHYHyY5W65ctZr5m6t",
      "authorship_tag": "ABX9TyP1bIaYFTVF7uwQ7BV7JW3u",
      "include_colab_link": true
    },
    "kernelspec": {
      "display_name": "Python 3",
      "name": "python3"
    },
    "language_info": {
      "name": "python"
    }
  },
  "nbformat": 4,
  "nbformat_minor": 0
}