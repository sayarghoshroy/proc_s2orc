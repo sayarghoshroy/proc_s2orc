{
  "cells": [
    {
      "cell_type": "markdown",
      "metadata": {
        "id": "view-in-github",
        "colab_type": "text"
      },
      "source": [
        "<a href=\"https://colab.research.google.com/github/sayarghoshroy/proc_s2orc/blob/main/create_rel_work.ipynb\" target=\"_parent\"><img src=\"https://colab.research.google.com/assets/colab-badge.svg\" alt=\"Open In Colab\"/></a>"
      ]
    },
    {
      "cell_type": "code",
      "execution_count": 1,
      "metadata": {
        "id": "FU6Fi9pKoRk4"
      },
      "outputs": [],
      "source": [
        "path = 'drive/My Drive/s2orc/'\n",
        "\n",
        "read_file = 'pdf_parses_1.jsonl'\n",
        "rel_work_file = 'out/output_b.jsonl'\n",
        "\n",
        "MAX_PROC = int(1e6)"
      ]
    },
    {
      "cell_type": "code",
      "execution_count": 2,
      "metadata": {
        "colab": {
          "base_uri": "https://localhost:8080/"
        },
        "id": "R9itc5wOsSY7",
        "outputId": "7505de71-74bf-43f4-96f5-024adb0917e2"
      },
      "outputs": [
        {
          "output_type": "stream",
          "name": "stderr",
          "text": [
            " 31%|███       | 310316/1000000 [02:19<05:10, 2223.41it/s]"
          ]
        },
        {
          "output_type": "stream",
          "name": "stdout",
          "text": [
            "\n",
            "\n",
            "Number of entries processed: 310316\n",
            "Number of entries with the Related Works sections: 1841\n"
          ]
        },
        {
          "output_type": "stream",
          "name": "stderr",
          "text": [
            "\n"
          ]
        }
      ],
      "source": [
        "# Read a jsonl and create a jsonl\n",
        "import re\n",
        "import ast\n",
        "import json\n",
        "import tqdm\n",
        "\n",
        "def normalize(name):\n",
        "  name = name.lower().strip()\n",
        "  re.sub('\\s+', ' ', name)\n",
        "  return name\n",
        "\n",
        "def check_rel_work(body_text):\n",
        "  for blob in body_text:\n",
        "    if normalize(blob['section']) == 'related work':\n",
        "      return True, blob\n",
        "  return False, None\n",
        "\n",
        "valid_lines = 0\n",
        "\n",
        "with open(path + read_file, 'r+') as f:\n",
        "  for counter in tqdm.tqdm(range(MAX_PROC)):\n",
        "    line = f.readline();\n",
        "    if not line:\n",
        "        break\n",
        "    paper_dict = json.loads(line)\n",
        "    if paper_dict['body_text'] == []:\n",
        "      continue\n",
        "\n",
        "    check, blob = check_rel_work(paper_dict['body_text'])\n",
        "    if check:\n",
        "      valid_lines += 1\n",
        "      unit = {}\n",
        "      unit['paper_id'] = paper_dict['paper_id']\n",
        "      unit['related_work'] = blob\n",
        "      with open(path + rel_work_file, 'a+') as o:\n",
        "        o.write(str(json.dumps(ast.literal_eval(str(unit)))))\n",
        "        o.write('\\n')\n",
        "\n",
        "print('\\n\\n' + 'Number of entries processed: ' + str(counter))\n",
        "print('Number of entries with the Related Works sections: ' + str(valid_lines))"
      ]
    },
    {
      "cell_type": "code",
      "execution_count": 3,
      "metadata": {
        "id": "2jAou8EmtM-6"
      },
      "outputs": [],
      "source": [
        "# That's it"
      ]
    }
  ],
  "metadata": {
    "colab": {
      "collapsed_sections": [],
      "provenance": [],
      "mount_file_id": "1_KAKw-L-ovenxdXHYHyY5W65ctZr5m6t",
      "authorship_tag": "ABX9TyM0w1Pc37OqCRtshF4+Ktc/",
      "include_colab_link": true
    },
    "kernelspec": {
      "display_name": "Python 3",
      "name": "python3"
    },
    "language_info": {
      "name": "python"
    }
  },
  "nbformat": 4,
  "nbformat_minor": 0
}